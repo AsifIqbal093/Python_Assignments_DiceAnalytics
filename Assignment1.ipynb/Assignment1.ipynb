{
 "cells": [
  {
   "cell_type": "markdown",
   "metadata": {},
   "source": [
    "# Assignment 1"
   ]
  },
  {
   "cell_type": "markdown",
   "metadata": {},
   "source": [
    "**Submission Deadline:**  19th Feb 2019"
   ]
  },
  {
   "cell_type": "markdown",
   "metadata": {},
   "source": [
    "**Note:** You need to run each cell where we have provided you some pre-defined variables for tasks"
   ]
  },
  {
   "cell_type": "markdown",
   "metadata": {},
   "source": [
    "### Task 1"
   ]
  },
  {
   "cell_type": "markdown",
   "metadata": {},
   "source": [
    "Use **for** loop to create **list** like this: <mark>['w','o','r','d']</mark> and save it in <mark>my_list</mark>\n",
    "\n",
    "Hint: use append method"
   ]
  },
  {
   "cell_type": "code",
   "execution_count": 1,
   "metadata": {},
   "outputs": [],
   "source": [
    "# write code here\n",
    "my_list=[]\n",
    "my_str='word'\n",
    "for char in my_str:\n",
    "    my_list.append(char)"
   ]
  },
  {
   "cell_type": "code",
   "execution_count": 2,
   "metadata": {},
   "outputs": [
    {
     "name": "stdout",
     "output_type": "stream",
     "text": [
      "['w', 'o', 'r', 'd']\n"
     ]
    }
   ],
   "source": [
    "# print my_list\n",
    "print(my_list)"
   ]
  },
  {
   "cell_type": "markdown",
   "metadata": {},
   "source": [
    "### Task 2"
   ]
  },
  {
   "cell_type": "markdown",
   "metadata": {},
   "source": [
    "Write markdown code to embed a website link inside text: <mark>Jupyter Markdown Cheat Sheet</mark>.\n",
    "\n",
    "Website link is: https://medium.com/ibm-data-science-experience/markdown-for-jupyter-notebooks-cheatsheet-386c05aeebed"
   ]
  },
  {
   "cell_type": "markdown",
   "metadata": {},
   "source": [
    "Hint: Just like we have embeded link here [Here](https://i.pinimg.com/originals/b8/bf/86/b8bf8658dd216b2ec14a1b9a27123f20.gif)"
   ]
  },
  {
   "cell_type": "markdown",
   "metadata": {},
   "source": [
    "[Jupyter Markdown Cheat Sheet](https://medium.com/ibm-data-science-experience/markdown-for-jupyter-notebooks-cheatsheet-386c05aeebed)"
   ]
  },
  {
   "cell_type": "markdown",
   "metadata": {},
   "source": [
    "# write markdown code here and convert this cell to markdown before running\n"
   ]
  },
  {
   "cell_type": "markdown",
   "metadata": {},
   "source": [
    "### Task 3"
   ]
  },
  {
   "cell_type": "markdown",
   "metadata": {},
   "source": [
    "Find maximum and minimum value from given list <mark>my_list1</mark>"
   ]
  },
  {
   "cell_type": "markdown",
   "metadata": {},
   "source": [
    "Hint: Check control flow notebook"
   ]
  },
  {
   "cell_type": "code",
   "execution_count": 3,
   "metadata": {},
   "outputs": [],
   "source": [
    "my_list1=[23,3456,67,6,34,87,1224,7689,22,675,809,323,779]"
   ]
  },
  {
   "cell_type": "code",
   "execution_count": 4,
   "metadata": {},
   "outputs": [
    {
     "data": {
      "text/plain": [
       "6"
      ]
     },
     "execution_count": 4,
     "metadata": {},
     "output_type": "execute_result"
    }
   ],
   "source": [
    "# write code here\n",
    "min(my_list1)"
   ]
  },
  {
   "cell_type": "code",
   "execution_count": 5,
   "metadata": {},
   "outputs": [
    {
     "data": {
      "text/plain": [
       "7689"
      ]
     },
     "execution_count": 5,
     "metadata": {},
     "output_type": "execute_result"
    }
   ],
   "source": [
    "# write code here\n",
    "max(my_list1)"
   ]
  },
  {
   "cell_type": "markdown",
   "metadata": {},
   "source": [
    "### Task 4"
   ]
  },
  {
   "cell_type": "markdown",
   "metadata": {},
   "source": [
    "Write code to check if input number is greater than, less than or equal to 50. Loop should be continuous and command of **exit** should end the infinite while loop"
   ]
  },
  {
   "cell_type": "markdown",
   "metadata": {},
   "source": [
    "Hint: you need to used input() fucntion and cast the value to 'int' for conditions but don't cast when 'exit'."
   ]
  },
  {
   "cell_type": "code",
   "execution_count": 6,
   "metadata": {},
   "outputs": [
    {
     "name": "stdout",
     "output_type": "stream",
     "text": [
      "Please enter a number, to check whether number is greater or less or equal to 50.45\n",
      "Number is less than 50\n"
     ]
    }
   ],
   "source": [
    "# write code here\n",
    "Inp_num=int(input('Please enter a number, to check whether number is greater or less or equal to 50.'))\n",
    "while Inp_num != 0:\n",
    "    if Inp_num<50:\n",
    "        print('Number is less than 50')\n",
    "        break\n",
    "    elif Inp_num>50:\n",
    "        print('Number is greater than 50')\n",
    "        break\n",
    "    else:\n",
    "        print('Number is equal to 50')\n",
    "        break\n",
    "\n"
   ]
  },
  {
   "cell_type": "markdown",
   "metadata": {},
   "source": [
    "### Task 5"
   ]
  },
  {
   "cell_type": "markdown",
   "metadata": {},
   "source": [
    "Create dictionary named <mark>europs</mark> from provided lists: <mark>countries</mark> and <mark>capitals</mark> using **for** loop"
   ]
  },
  {
   "cell_type": "markdown",
   "metadata": {},
   "source": [
    "Hint: using enumerate() function with for loop"
   ]
  },
  {
   "cell_type": "code",
   "execution_count": 7,
   "metadata": {},
   "outputs": [],
   "source": [
    "# Definition of countries and capital\n",
    "countries = ['spain', 'france', 'germany', 'norway']\n",
    "capitals = ['madrid', 'paris', 'berlin', 'oslo']"
   ]
  },
  {
   "cell_type": "code",
   "execution_count": 8,
   "metadata": {},
   "outputs": [],
   "source": [
    "# write code here\n",
    "europe={}\n",
    "for count, capt in enumerate(zip(countries, capitals)):\n",
    "    europe[count] = [capt]\n",
    "\n",
    "\n",
    "\n"
   ]
  },
  {
   "cell_type": "code",
   "execution_count": 9,
   "metadata": {},
   "outputs": [
    {
     "name": "stdout",
     "output_type": "stream",
     "text": [
      "{0: [('spain', 'madrid')], 1: [('france', 'paris')], 2: [('germany', 'berlin')], 3: [('norway', 'oslo')]}\n"
     ]
    }
   ],
   "source": [
    "# print europe\n",
    "print(europe)"
   ]
  },
  {
   "cell_type": "markdown",
   "metadata": {},
   "source": [
    "### Task 6"
   ]
  },
  {
   "cell_type": "markdown",
   "metadata": {},
   "source": [
    "Use markdown code to print image on below website link here inside Jupyter notebook markdown.\n",
    "\n",
    "Web link: https://i.pinimg.com/originals/b8/bf/86/b8bf8658dd216b2ec14a1b9a27123f20.gif"
   ]
  },
  {
   "cell_type": "markdown",
   "metadata": {},
   "source": [
    "Hint: [here](https://medium.com/ibm-data-science-experience/markdown-for-jupyter-notebooks-cheatsheet-386c05aeebed)"
   ]
  },
  {
   "cell_type": "markdown",
   "metadata": {},
   "source": [
    "![Mr.Bean](https://i.pinimg.com/originals/b8/bf/86/b8bf8658dd216b2ec14a1b9a27123f20.gif)"
   ]
  },
  {
   "cell_type": "markdown",
   "metadata": {},
   "source": [
    "# write markdown code here and convert this cell to markdown before running\n",
    "\n"
   ]
  },
  {
   "cell_type": "markdown",
   "metadata": {},
   "source": [
    "### Task 7"
   ]
  },
  {
   "cell_type": "markdown",
   "metadata": {},
   "source": [
    "Convert object types of values in below mentioned defined dictionary. Check comments for required task."
   ]
  },
  {
   "cell_type": "markdown",
   "metadata": {},
   "source": [
    "Hint: Expected final out of dictionary should be:\n",
    "```python\n",
    "{'animal':['Dog','Cat'],'age':[4.0,5.0],'bark':[1,0],'badge_num':[234,896]}\n",
    "```"
   ]
  },
  {
   "cell_type": "code",
   "execution_count": 10,
   "metadata": {},
   "outputs": [],
   "source": [
    "my_dict={'animal':['Dog','Cat'],'age':[4,5],'bark':[True,False],'badge_num':['234','896']}"
   ]
  },
  {
   "cell_type": "code",
   "execution_count": 11,
   "metadata": {},
   "outputs": [],
   "source": [
    "# cast 'age' to float\n",
    "my_dict['age'] = list(map(float, my_dict['age']))"
   ]
  },
  {
   "cell_type": "code",
   "execution_count": 12,
   "metadata": {},
   "outputs": [],
   "source": [
    "# cast 'bark' to int\n",
    "my_dict['bark'] = list(map(int, my_dict['bark']))"
   ]
  },
  {
   "cell_type": "code",
   "execution_count": 13,
   "metadata": {},
   "outputs": [],
   "source": [
    "# cast 'badge_num' to int\n",
    "my_dict['badge_num'] = list(map(int, my_dict['badge_num']))"
   ]
  },
  {
   "cell_type": "code",
   "execution_count": 14,
   "metadata": {},
   "outputs": [
    {
     "name": "stdout",
     "output_type": "stream",
     "text": [
      "{'animal': ['Dog', 'Cat'], 'age': [4.0, 5.0], 'bark': [1, 0], 'badge_num': [234, 896]}\n"
     ]
    }
   ],
   "source": [
    "# print my_dict\n",
    "print(my_dict)"
   ]
  },
  {
   "cell_type": "markdown",
   "metadata": {},
   "source": [
    "### Task 8"
   ]
  },
  {
   "cell_type": "markdown",
   "metadata": {},
   "source": [
    "You can write mathematical equations in Jupyter markdown. These are also called LaTex equations. Write below mentioned LaTex equation in markdown.\n",
    "<img src=https://encrypted-tbn0.gstatic.com/images?q=tbn:ANd9GcT342MebkyWTnyT3TCSGUN0XE3oml18wrd20OOR2elcElqYHpfs />"
   ]
  },
  {
   "cell_type": "markdown",
   "metadata": {},
   "source": [
    "Hint: [Here](https://stackoverflow.com/questions/13208286/how-to-write-latex-in-ipython-notebook)"
   ]
  },
  {
   "cell_type": "markdown",
   "metadata": {},
   "source": [
    "$$c=\\sqrt{a^2 + b^2}$$"
   ]
  },
  {
   "cell_type": "markdown",
   "metadata": {},
   "source": [
    "# write markdown code here and convert this cell to markdown before running\n"
   ]
  },
  {
   "cell_type": "markdown",
   "metadata": {},
   "source": [
    "### Task 9"
   ]
  },
  {
   "cell_type": "markdown",
   "metadata": {},
   "source": [
    "Write any python code in markdown such that when it runs, the markdown should look like a python code. This is called Github flavored markdown"
   ]
  },
  {
   "cell_type": "markdown",
   "metadata": {},
   "source": [
    "Hint: [Here](https://jupyter-notebook.readthedocs.io/en/stable/examples/Notebook/Working%20With%20Markdown%20Cells.html)"
   ]
  },
  {
   "cell_type": "markdown",
   "metadata": {},
   "source": [
    "``` python\n",
    "print \"Hello World\"\n",
    "```"
   ]
  },
  {
   "cell_type": "markdown",
   "metadata": {},
   "source": [
    "# write markdown code here and convert this cell to markdown before running\n",
    "\n",
    "\n"
   ]
  },
  {
   "cell_type": "markdown",
   "metadata": {},
   "source": [
    "## Task 10"
   ]
  },
  {
   "cell_type": "markdown",
   "metadata": {},
   "source": [
    "Let's use `while` loops to create a guessing game.\n",
    "\n",
    "The Challenge:\n",
    "\n",
    "Write a program that picks a random integer from 1 to 100, and has players guess the number. The rules are:\n",
    "\n",
    "1. If a player's guess is less than 1 or greater than 100, say \"OUT OF BOUNDS\"\n",
    "2. On a player's first turn, if their guess is\n",
    " * within 10 of the number, return \"WARM!\"\n",
    " * further than 10 away from the number, return \"COLD!\"\n",
    "3. On all subsequent turns, if a guess is \n",
    " * closer to the number than the previous guess return \"WARMER!\"\n",
    " * farther from the number than the previous guess, return \"COLDER!\"\n",
    "4. When the player's guess equals the number, tell them they've guessed correctly *and* how many guesses it took!\n",
    "\n",
    "You can try this from scratch, or follow the steps outlined below. A separate Solution notebook has been provided. Good luck!"
   ]
  },
  {
   "cell_type": "markdown",
   "metadata": {},
   "source": [
    "#### First, pick a random integer from 1 to 100 using the random module and assign it to a variable\n",
    "\n",
    "Note: `random.randint(a,b)` returns a random integer in range `[a, b]`, including both end points."
   ]
  },
  {
   "cell_type": "code",
   "execution_count": 15,
   "metadata": {},
   "outputs": [],
   "source": [
    "# write code here\n",
    "from random import randint\n",
    "number = randint(1,100)"
   ]
  },
  {
   "cell_type": "markdown",
   "metadata": {},
   "source": [
    "#### Next, print an introduction to the game and explain the rules"
   ]
  },
  {
   "cell_type": "code",
   "execution_count": 16,
   "metadata": {},
   "outputs": [
    {
     "name": "stdout",
     "output_type": "stream",
     "text": [
      "\t\t\t Welcome to Guessing Game !!!\n",
      "User will enter a number and program will match it with a random number generated.\n",
      "If gess equal random generated number... then you win.\n",
      "If number is closer to number in range of 10 then you will get WARMER and if number is far from the you get COLDER\n"
     ]
    }
   ],
   "source": [
    "# write code here\n",
    "print('\\t\\t\\t Welcome to Guessing Game !!!')\n",
    "print('User will enter a number and program will match it with a random number generated.')\n",
    "print('If gess equal random generated number... then you win.\\n' + 'If number is closer to number in range of 10 then you will get WARMER and if number is far from the you get COLDER')\n",
    "\n"
   ]
  },
  {
   "cell_type": "markdown",
   "metadata": {},
   "source": [
    "#### Create a list to store guesses\n",
    "\n",
    "Hint: zero is a good placeholder value. It's useful because it evaluates to \"False\""
   ]
  },
  {
   "cell_type": "markdown",
   "metadata": {},
   "source": [
    "#### Write a `while` loop that asks for a valid guess. Test it a few times to make sure it works."
   ]
  },
  {
   "cell_type": "code",
   "execution_count": 17,
   "metadata": {},
   "outputs": [
    {
     "name": "stdout",
     "output_type": "stream",
     "text": [
      "Please enter a number55\n",
      "Well! you made a correct entery... Please Wait for process....\n"
     ]
    }
   ],
   "source": [
    "#Write code here\n",
    "guess = int(input('Please enter a number'))\n",
    "G_num = True\n",
    "while G_num:\n",
    "    if guess>0 and guess<100:\n",
    "        print('Well! you made a correct entery... Please Wait for process....')\n",
    "        G_num = False\n",
    "    else :\n",
    "        print('Out of Bounds')\n",
    "        guess = int(input('Try Again'))\n",
    "        continue\n",
    "    "
   ]
  },
  {
   "cell_type": "markdown",
   "metadata": {},
   "source": [
    "#### Write a `while` loop that compares the player's guess to our number. If the player guesses correctly, break from the loop. Otherwise, tell the player if they're warmer or colder, and continue asking for guesses.\n",
    "\n",
    "Some hints:\n",
    "* it may help to sketch out all possible combinations on paper first!\n",
    "* you can use the `abs()` function to find the positive difference between two numbers\n",
    "* if you append all new guesses to the list, then the previous guess is given as `guesses[-2]`"
   ]
  },
  {
   "cell_type": "code",
   "execution_count": 18,
   "metadata": {},
   "outputs": [
    {
     "name": "stdout",
     "output_type": "stream",
     "text": [
      "Colder\n"
     ]
    }
   ],
   "source": [
    "guess_list = list() \n",
    "new_atp = guess-number \n",
    "prev_atp = 0\n",
    "while True:\n",
    "    if new_atp==0:\n",
    "        print('CONGRATS YOU GOT IT')\n",
    "        print(len(guess_list))\n",
    "        False\n",
    "    elif new_atp > -10 and new_atp < 10:\n",
    "        if new_atp < prev_atp:\n",
    "            print('Warmer')\n",
    "            guess_list.append(new_atp)\n",
    "            prev_atp = new_atp\n",
    "            break\n",
    "        else:\n",
    "            print('Wram')\n",
    "            guess_list.append(new_atp)\n",
    "            prev_atp = new_atp\n",
    "            break\n",
    "        \n",
    "    else:\n",
    "        if new_atp > prev_atp :\n",
    "            print('Colder')\n",
    "            guess_list.append(new_atp)\n",
    "            prev_atp = new_atp\n",
    "            break\n",
    "        else:\n",
    "            print('Cold')\n",
    "            prev_atp = new_atp\n",
    "            guess_list.append(new_atp)\n",
    "            break\n",
    "    pass"
   ]
  },
  {
   "cell_type": "markdown",
   "metadata": {},
   "source": [
    "That's it! You've just programmed your first game!"
   ]
  },
  {
   "cell_type": "code",
   "execution_count": null,
   "metadata": {},
   "outputs": [],
   "source": []
  }
 ],
 "metadata": {
  "kernelspec": {
   "display_name": "Python 3",
   "language": "python",
   "name": "python3"
  },
  "language_info": {
   "codemirror_mode": {
    "name": "ipython",
    "version": 3
   },
   "file_extension": ".py",
   "mimetype": "text/x-python",
   "name": "python",
   "nbconvert_exporter": "python",
   "pygments_lexer": "ipython3",
   "version": "3.7.0"
  }
 },
 "nbformat": 4,
 "nbformat_minor": 2
}
